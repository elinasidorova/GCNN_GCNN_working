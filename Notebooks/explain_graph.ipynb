{
 "cells": [
  {
   "cell_type": "code",
   "execution_count": 7,
   "outputs": [],
   "source": [
    "import torch\n",
    "from Source.model import MolGraphNet\n",
    "from Source.mol_featurizer import featurize_sdf\n",
    "from torch_geometric.nn import GCNConv, Set2Set, GNNExplainer\n",
    "from rdkit.Chem.Draw import rdMolDraw2D\n",
    "from rdkit import Chem"
   ],
   "metadata": {
    "collapsed": false,
    "pycharm": {
     "name": "#%%\n"
    }
   }
  },
  {
   "cell_type": "code",
   "execution_count": 8,
   "outputs": [],
   "source": [
    "path_to_data = \"/home/cairne/PythonProj/SmartChemDesign/mol_torch_model/Data/An_converted/Am_ML.sdf\"\n",
    "valuename = \"logK\"\n",
    "path_to_model = \"/home/cairne/PythonProj/SmartChemDesign/mol_torch_model/Output/Results_Am_logK_regression_2022_07_05_16_08_50/fold_1/best_model\"\n",
    "threshold = 0.9\n"
   ],
   "metadata": {
    "collapsed": false,
    "pycharm": {
     "name": "#%%\n"
    }
   }
  },
  {
   "cell_type": "code",
   "execution_count": 9,
   "outputs": [
    {
     "name": "stderr",
     "output_type": "stream",
     "text": [
      "Explain graph: 100%|██████████| 1000/1000 [00:07<00:00, 132.38it/s]\n",
      "Explain graph: 100%|██████████| 1000/1000 [00:07<00:00, 129.30it/s]\n",
      "Explain graph: 100%|██████████| 1000/1000 [00:08<00:00, 120.32it/s]\n",
      "Explain graph: 100%|██████████| 1000/1000 [00:08<00:00, 116.29it/s]\n",
      "Explain graph: 100%|██████████| 1000/1000 [00:07<00:00, 136.69it/s]\n",
      "Explain graph: 100%|██████████| 1000/1000 [00:07<00:00, 134.53it/s]\n",
      "Explain graph: 100%|██████████| 1000/1000 [00:07<00:00, 136.73it/s]\n",
      "Explain graph: 100%|██████████| 1000/1000 [00:08<00:00, 121.92it/s]\n",
      "Explain graph: 100%|██████████| 1000/1000 [00:07<00:00, 125.12it/s]\n",
      "Explain graph: 100%|██████████| 1000/1000 [00:08<00:00, 117.89it/s]\n",
      "Explain graph: 100%|██████████| 1000/1000 [00:07<00:00, 136.62it/s]\n",
      "Explain graph: 100%|██████████| 1000/1000 [00:07<00:00, 135.39it/s]\n",
      "Explain graph: 100%|██████████| 1000/1000 [00:08<00:00, 120.31it/s]\n",
      "Explain graph: 100%|██████████| 1000/1000 [00:07<00:00, 142.23it/s]\n",
      "Explain graph: 100%|██████████| 1000/1000 [00:07<00:00, 136.25it/s]\n",
      "Explain graph: 100%|██████████| 1000/1000 [00:07<00:00, 133.78it/s]\n",
      "Explain graph: 100%|██████████| 1000/1000 [00:07<00:00, 137.48it/s]\n",
      "Explain graph: 100%|██████████| 1000/1000 [00:07<00:00, 138.21it/s]\n",
      "Explain graph: 100%|██████████| 1000/1000 [00:07<00:00, 135.83it/s]\n",
      "Explain graph: 100%|██████████| 1000/1000 [00:07<00:00, 137.99it/s]\n",
      "Explain graph: 100%|██████████| 1000/1000 [00:07<00:00, 130.10it/s]\n",
      "Explain graph: 100%|██████████| 1000/1000 [00:07<00:00, 138.17it/s]\n",
      "Explain graph: 100%|██████████| 1000/1000 [00:07<00:00, 140.44it/s]\n",
      "Explain graph: 100%|██████████| 1000/1000 [00:08<00:00, 120.10it/s]\n",
      "Explain graph: 100%|██████████| 1000/1000 [00:07<00:00, 140.05it/s]\n",
      "Explain graph: 100%|██████████| 1000/1000 [00:07<00:00, 137.01it/s]\n",
      "Explain graph: 100%|██████████| 1000/1000 [00:07<00:00, 142.80it/s]\n",
      "Explain graph: 100%|██████████| 1000/1000 [00:08<00:00, 122.95it/s]\n",
      "Explain graph: 100%|██████████| 1000/1000 [00:07<00:00, 136.34it/s]\n",
      "Explain graph: 100%|██████████| 1000/1000 [00:07<00:00, 137.17it/s]\n",
      "Explain graph: 100%|██████████| 1000/1000 [00:07<00:00, 136.57it/s]\n",
      "Explain graph: 100%|██████████| 1000/1000 [00:07<00:00, 137.68it/s]\n",
      "Explain graph: 100%|██████████| 1000/1000 [00:07<00:00, 137.00it/s]\n",
      "Explain graph: 100%|██████████| 1000/1000 [00:07<00:00, 133.74it/s]\n",
      "Explain graph: 100%|██████████| 1000/1000 [00:07<00:00, 134.42it/s]\n",
      "Explain graph: 100%|██████████| 1000/1000 [00:08<00:00, 123.56it/s]\n",
      "Explain graph: 100%|██████████| 1000/1000 [00:08<00:00, 120.16it/s]\n"
     ]
    }
   ],
   "source": [
    "mols = Chem.SDMolSupplier(path_to_data)\n",
    "\n",
    "for mol_id, mol in enumerate(mols):\n",
    "    output_name = f\"images_0_9/explanation_{mol_id}.png\"\n",
    "    device = torch.device(\"cpu\")\n",
    "    dataset = featurize_sdf(path_to_data, valuenames=[valuename])\n",
    "    batch = dataset[mol_id]\n",
    "\n",
    "    model = MolGraphNet(dataset[1])\n",
    "    state_dict = torch.load(path_to_model, map_location=device)\n",
    "    model.load_state_dict(state_dict)\n",
    "\n",
    "    x, edge_index = batch.x, batch.edge_index\n",
    "    explainer = GNNExplainer(model, epochs=1000, return_type=\"regression\", allow_edge_mask=True)\n",
    "    node_feat_mask, edge_mask = explainer.explain_graph(x, edge_index)\n",
    "    edge_mask = edge_mask.tolist()\n",
    "    edge_index = edge_index.tolist()\n",
    "    edge_index_pairs = [(edge_index[0][i], edge_index[1][i], edge_mask[i]) for i in range(len(edge_index[1]))]\n",
    "    hit_ats, hit_bonds = set(), set()\n",
    "\n",
    "    for i, pair in enumerate(edge_index_pairs):\n",
    "        if pair[2] > threshold:\n",
    "            hit_ats.add(pair[0])\n",
    "            hit_ats.add(pair[1])\n",
    "            hit_bonds.add(mol.GetBondBetweenAtoms(pair[0],pair[1]).GetIdx())\n",
    "\n",
    "\n",
    "    d = rdMolDraw2D.MolDraw2DCairo(500, 500) # or MolDraw2DCairo to get PNGs\n",
    "    rdMolDraw2D.PrepareAndDrawMolecule(d, mol, highlightAtoms=hit_ats,\n",
    "                                       highlightBonds=hit_bonds)\n",
    "    d.WriteDrawingText(output_name)"
   ],
   "metadata": {
    "collapsed": false,
    "pycharm": {
     "name": "#%%\n"
    }
   }
  },
  {
   "cell_type": "code",
   "execution_count": 9,
   "outputs": [],
   "source": [],
   "metadata": {
    "collapsed": false,
    "pycharm": {
     "name": "#%%\n"
    }
   }
  },
  {
   "cell_type": "code",
   "execution_count": 9,
   "outputs": [],
   "source": [],
   "metadata": {
    "collapsed": false,
    "pycharm": {
     "name": "#%%\n"
    }
   }
  }
 ],
 "metadata": {
  "kernelspec": {
   "display_name": "Python 3",
   "language": "python",
   "name": "python3"
  },
  "language_info": {
   "codemirror_mode": {
    "name": "ipython",
    "version": 2
   },
   "file_extension": ".py",
   "mimetype": "text/x-python",
   "name": "python",
   "nbconvert_exporter": "python",
   "pygments_lexer": "ipython2",
   "version": "2.7.6"
  }
 },
 "nbformat": 4,
 "nbformat_minor": 0
}