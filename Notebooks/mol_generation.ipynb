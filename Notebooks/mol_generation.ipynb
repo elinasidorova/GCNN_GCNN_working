{
 "cells": [
  {
   "cell_type": "code",
   "execution_count": null,
   "metadata": {
    "collapsed": true,
    "pycharm": {
     "name": "#%%\n"
    }
   },
   "outputs": [],
   "source": [
    "from janus import JANUS\n",
    "from rdkit import RDLogger\n",
    "\n",
    "from Source.models.GCNN_FCNN.featurizers import Complex\n",
    "from Source.models.GCNN_FCNN.model import GCNN_FCNN\n",
    "from Source.trainer import ModelShell\n",
    "from config import ROOT_DIR\n",
    "\n",
    "RDLogger.DisableLog(\"rdApp.*\")\n",
    "import selfies\n",
    "\n",
    "METAL_1 = \"Am\"\n",
    "METAL_2 = \"Cm\"\n",
    "VALENCE = 3\n",
    "TEMPERATURE = 25\n",
    "IONIC_STR = 0.1\n",
    "MODEL = ModelShell(GCNN_FCNN, ROOT_DIR / \"App_models/Y_Sc_f-elements_5fold_regression_2023_06_10_07_58_17\")\n",
    "WORKING_DIR = \"../Generation_results\"\n",
    "STARTING_POPULATION_PATH = \"../Data/nist_start_smiles.txt\"\n",
    "\n",
    "print(selfies.get_semantic_constraints())\n",
    "\n",
    "def fitness_function(smi: str) -> float:\n",
    "    \"\"\" User-defined function that takes in individual smiles\n",
    "    and outputs a fitness value.\n",
    "    \"\"\"\n",
    "    complex_1 = Complex(mol=smi, metal=METAL_1, valence=VALENCE, temperature=TEMPERATURE, ionic_str=IONIC_STR)\n",
    "    complex_2 = Complex(mol=smi, metal=METAL_2, valence=VALENCE, temperature=TEMPERATURE, ionic_str=IONIC_STR)\n",
    "\n",
    "    return MODEL(complex_1.graph)[\"logK\"].item() / MODEL(complex_2.graph)[\"logK\"].item()\n",
    "\n",
    "\n",
    "def custom_filter(smi: str):\n",
    "    \"\"\" Function that takes in a smile and returns a boolean.\n",
    "    True indicates the smiles PASSES the filter.\n",
    "    \"\"\"\n",
    "    # smiles length filter\n",
    "    if len(smi) > 120 or len(smi) < 20:\n",
    "        return False\n",
    "    elif \"+\" in smi or \"-\" in smi:\n",
    "        return False\n",
    "    else:\n",
    "        return True\n",
    "\n",
    "\n",
    "# all parameters to be set, below are defaults\n",
    "params_dict = {\n",
    "    # Number of iterations that JANUS runs for\n",
    "    \"generations\": 20,\n",
    "\n",
    "    # The number of molecules for which fitness calculations are done,\n",
    "    # exploration and exploitation each have their own population\n",
    "    \"generation_size\": 1000,\n",
    "\n",
    "    # Number of molecules that are exchanged between the exploration and exploitation\n",
    "    \"num_exchanges\": 5,\n",
    "\n",
    "    # Callable filtering function (None defaults to no filtering)\n",
    "    \"custom_filter\": custom_filter,\n",
    "\n",
    "    # Fragments from starting population used to extend alphabet for mutations\n",
    "    \"use_fragments\": False, # Causes errors in selfies encoding\n",
    "\n",
    "    # An option to use a classifier as selection bias\n",
    "    \"use_classifier\": True,\n",
    "}\n",
    "\n",
    "# Set your SELFIES constraints (below used for manuscript)\n",
    "default_constraints = selfies.get_semantic_constraints()\n",
    "new_constraints = default_constraints\n",
    "new_constraints['S'] = 6\n",
    "new_constraints['P'] = 5\n",
    "selfies.set_semantic_constraints(new_constraints)  # update constraints\n",
    "\n",
    "# Create JANUS object.\n",
    "agent = JANUS(\n",
    "    work_dir=WORKING_DIR,  # where the results are saved\n",
    "    fitness_function=fitness_function,  # user-defined fitness for given smiles\n",
    "    start_population=STARTING_POPULATION_PATH,  # file with starting smiles population\n",
    "    **params_dict\n",
    ")\n",
    "\n",
    "agent.run()  # RUN IT!"
   ]
  },
  {
   "cell_type": "code",
   "execution_count": null,
   "outputs": [],
   "source": [
    "from rdkit import Avalon\n",
    "Avalon"
   ],
   "metadata": {
    "collapsed": false,
    "pycharm": {
     "name": "#%%\n"
    }
   }
  }
 ],
 "metadata": {
  "kernelspec": {
   "display_name": "Python 3",
   "language": "python",
   "name": "python3"
  },
  "language_info": {
   "codemirror_mode": {
    "name": "ipython",
    "version": 2
   },
   "file_extension": ".py",
   "mimetype": "text/x-python",
   "name": "python",
   "nbconvert_exporter": "python",
   "pygments_lexer": "ipython2",
   "version": "2.7.6"
  }
 },
 "nbformat": 4,
 "nbformat_minor": 0
}