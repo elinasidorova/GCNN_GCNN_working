{
 "cells": [
  {
   "cell_type": "code",
   "execution_count": 1,
   "id": "b57e341b",
   "metadata": {},
   "outputs": [
    {
     "ename": "ModuleNotFoundError",
     "evalue": "No module named 'dgllife'",
     "output_type": "error",
     "traceback": [
      "\u001b[1;31m---------------------------------------------------------------------------\u001b[0m",
      "\u001b[1;31mModuleNotFoundError\u001b[0m                       Traceback (most recent call last)",
      "\u001b[1;32m~\\AppData\\Local\\Temp\\ipykernel_17884\\569725792.py\u001b[0m in \u001b[0;36m<module>\u001b[1;34m\u001b[0m\n\u001b[0;32m      4\u001b[0m \u001b[1;33m\u001b[0m\u001b[0m\n\u001b[0;32m      5\u001b[0m \u001b[1;32mimport\u001b[0m \u001b[0mnumpy\u001b[0m \u001b[1;32mas\u001b[0m \u001b[0mnp\u001b[0m\u001b[1;33m\u001b[0m\u001b[1;33m\u001b[0m\u001b[0m\n\u001b[1;32m----> 6\u001b[1;33m \u001b[1;32mfrom\u001b[0m \u001b[0mdgllife\u001b[0m\u001b[1;33m.\u001b[0m\u001b[0mutils\u001b[0m \u001b[1;32mimport\u001b[0m \u001b[0mCanonicalAtomFeaturizer\u001b[0m\u001b[1;33m\u001b[0m\u001b[1;33m\u001b[0m\u001b[0m\n\u001b[0m\u001b[0;32m      7\u001b[0m \u001b[1;32mfrom\u001b[0m \u001b[0msklearn\u001b[0m\u001b[1;33m.\u001b[0m\u001b[0mmetrics\u001b[0m \u001b[1;32mimport\u001b[0m \u001b[0mr2_score\u001b[0m\u001b[1;33m,\u001b[0m \u001b[0mmean_squared_error\u001b[0m\u001b[1;33m,\u001b[0m \u001b[0mmean_absolute_error\u001b[0m\u001b[1;33m\u001b[0m\u001b[1;33m\u001b[0m\u001b[0m\n\u001b[0;32m      8\u001b[0m \u001b[1;32mfrom\u001b[0m \u001b[0mtorch_geometric\u001b[0m\u001b[1;33m.\u001b[0m\u001b[0mloader\u001b[0m \u001b[1;32mimport\u001b[0m \u001b[0mDataLoader\u001b[0m\u001b[1;33m\u001b[0m\u001b[1;33m\u001b[0m\u001b[0m\n",
      "\u001b[1;31mModuleNotFoundError\u001b[0m: No module named 'dgllife'"
     ]
    }
   ],
   "source": [
    "import logging\n",
    "import os.path\n",
    "import sys\n",
    "\n",
    "import numpy as np\n",
    "from dgllife.utils import CanonicalAtomFeaturizer\n",
    "from sklearn.metrics import r2_score, mean_squared_error, mean_absolute_error\n",
    "from torch_geometric.loader import DataLoader\n",
    "\n",
    "sys.path.append(os.path.abspath(\".\"))\n",
    "\n",
    "from model import GCNN_FCNN\n",
    "from Source.models.GCNN.trainer import GCNNTrainer\n",
    "from Source.trainer import ModelShell\n",
    "from Source.data import balanced_train_test_valid_split\n",
    "from Source.featurizers.featurizers import DGLFeaturizer, SkipatomFeaturizer, featurize_sdf_with_metal"
   ]
  },
  {
   "cell_type": "code",
   "execution_count": 7,
   "id": "0752adab",
   "metadata": {},
   "outputs": [],
   "source": [
    "logging.basicConfig(level=logging.INFO, format=\"%(asctime)s %(levelname)s %(message)s\")\n",
    "\n",
    "cv_folds = 5\n",
    "seed = 27\n",
    "batch_size = 32\n",
    "epochs = 1000\n",
    "es_patience = 100\n",
    "train_sdf_folder = \"../../../Data/OneM\"\n",
    "train_folder = \"Output/Test_regression_2023_05_05_21_06_28\"\n",
    "\n",
    "targets = (\"logK\",)\n",
    "target_metrics = {\n",
    "    target: {\n",
    "        \"R2\": (r2_score, {}),\n",
    "        \"RMSE\": (lambda *args, **kwargs: np.sqrt(mean_squared_error(*args, **kwargs)), {}),\n",
    "        \"MAE\": (mean_absolute_error, {})\n",
    "    } for target in targets\n",
    "}\n",
    "\n",
    "test_metal = \"Cu\"\n",
    "\n",
    "transition_metals = [\"Mg\", \"Al\", \"Ca\", \"Mn\", \"Fe\", \"Co\", \"Ni\", \"Cu\", \"Zn\", \"Y\", \"Ag\", \"Cd\", \"Hg\", \"Pb\", \"Bi\"]\n",
    "Ln_metals = [\"La\", \"Ce\", \"Pr\", \"Nd\", \"Sm\", \"Eu\", \"Gd\", \"Tb\", \"Dy\", \"Ho\", \"Er\", \"Tm\", \"Yb\", \"Lu\"]\n",
    "Ac_metals = [\"Th\", \"Am\", \"Cm\", \"Bk\", \"Cf\"]  # \"U\", \"Pu\",\n",
    "all_metals = [\"La\"]  # transition_metals + Ln_metals + Ac_metals\n",
    "\n",
    "logging.info(\"Featurizig...\")\n",
    "train_datasets = [featurize_sdf_with_metal(path_to_sdf=os.path.join(train_sdf_folder, f\"{metal}.sdf\"),\n",
    "                                           mol_featurizer=DGLFeaturizer(add_self_loop=False,\n",
    "                                                                        node_featurizer=CanonicalAtomFeaturizer()),\n",
    "                                           metal_featurizer=SkipatomFeaturizer(\n",
    "                                               \"../../featurizers/skipatom_vectors_dim200.json\"))\n",
    "                  for metal in all_metals if metal != test_metal]\n",
    "folds = balanced_train_test_valid_split(train_datasets, n_folds=cv_folds,\n",
    "                                        batch_size=batch_size,\n",
    "                                        shuffle_every_epoch=True,\n",
    "                                        seed=seed)\n",
    "\n",
    "test_loader = DataLoader(featurize_sdf_with_metal(\n",
    "    path_to_sdf=os.path.join(train_sdf_folder, f\"{test_metal}.sdf\"),\n",
    "    mol_featurizer=DGLFeaturizer(add_self_loop=False, node_featurizer=CanonicalAtomFeaturizer()),\n",
    "    metal_featurizer=SkipatomFeaturizer(\"../../featurizers/skipatom_vectors_dim200.json\")),\n",
    "    batch_size=batch_size)\n",
    "\n",
    "\n",
    "super_model = ModelShell(GCNN_FCNN, train_folder)\n",
    "trainer = GCNNTrainer(\n",
    "    model=None,\n",
    "    train_valid_data=folds,\n",
    "    test_data=test_loader,\n",
    "    target_metrics=target_metrics,\n",
    "    seed=seed,\n",
    ")\n",
    "trainer.models = super_model.models\n",
    "result = trainer.calculate_metrics()\n",
    "\n",
    "print(result)\n"
   ]
  },
  {
   "cell_type": "code",
   "execution_count": null,
   "id": "352f7df9",
   "metadata": {},
   "outputs": [],
   "source": [
    "path_to_sdf = \"Data/OneM_cond/U.sdf\"\n",
    "train_folder = \"Output/WithCond/General_U_seed23_testonly_5fold_regression_2023_05_06_09_35_46\"\n",
    "\n",
    "model = ModelShell(MolGraphHeteroNet, train_folder)\n",
    "test_graphs = featurize_sdf_with_metal_and_conditions(path_to_sdf=path_to_sdf,\n",
    "                                                      mol_featurizer=ConvMolFeaturizer(),\n",
    "                                                      metal_featurizer=SkipatomFeaturizer())\n",
    "batch = Batch.from_data_list(test_graphs)\n",
    "\n",
    "predictions = model(batch.x, batch.edge_index, batch.metal_x, batch.batch)\n",
    "print(predictions)"
   ]
  }
 ],
 "metadata": {
  "kernelspec": {
   "display_name": "mol_torch_gcnn",
   "language": "python",
   "name": "mol_torch_gcnn"
  },
  "language_info": {
   "codemirror_mode": {
    "name": "ipython",
    "version": 3
   },
   "file_extension": ".py",
   "mimetype": "text/x-python",
   "name": "python",
   "nbconvert_exporter": "python",
   "pygments_lexer": "ipython3",
   "version": "3.7.13"
  }
 },
 "nbformat": 4,
 "nbformat_minor": 5
}
