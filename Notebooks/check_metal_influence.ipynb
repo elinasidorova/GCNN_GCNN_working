{
 "cells": [
  {
   "cell_type": "code",
   "execution_count": 28,
   "id": "2d84e91f",
   "metadata": {},
   "outputs": [],
   "source": [
    "import numpy as np\n",
    "import sys\n",
    "import json\n",
    "\n",
    "from tqdm.auto import tqdm\n",
    "from rdkit import Chem\n",
    "import torch\n",
    "from matplotlib import pyplot as plt\n",
    "\n",
    "sys.path.append(\"../\")\n",
    "from config import ROOT_DIR\n",
    "from Source.models.GCNN_FCNN.model import GCNN_FCNN\n",
    "from Source.models.GCNN_FCNN.old_featurizer import ConvMolFeaturizer\n",
    "from Source.trainer import ModelShell"
   ]
  },
  {
   "cell_type": "code",
   "execution_count": 29,
   "id": "fc229947",
   "metadata": {},
   "outputs": [],
   "source": [
    "with open(ROOT_DIR / \"Source/models/GCNN_FCNN/skipatom_vectors_dim200.json\", \"r\") as f:\n",
    "    get_vector = json.load(f)\n",
    "get_vector[\"mean\"] = np.array(list(get_vector.values())).mean(axis=0).tolist()\n",
    "get_vector[\"zero\"] = np.zeros((200,)).tolist()\n",
    "\n",
    "def get_features(metals):\n",
    "    return np.array([get_vector[metal] for metal in metals])"
   ]
  },
  {
   "cell_type": "code",
   "execution_count": 30,
   "id": "6023b0c2",
   "metadata": {},
   "outputs": [],
   "source": [
    "Ln_metals = ['La', 'Ce', 'Pr', 'Nd', 'Pm', 'Sm', 'Eu', 'Gd', 'Tb', 'Dy', 'Ho', 'Er', 'Tm', 'Yb', 'Lu', ]\n",
    "An_metals = ['Ac', 'Th', 'Pa', 'U', 'Np', 'Pu', 'Am', 'Cm', 'Bk', 'Cf']\n",
    "\n",
    "other_metals = ['Li', 'Be', 'Na', 'Mg', 'Al', 'K', 'Ca', 'Sc', 'Ti', 'V', 'Cr', 'Mn', 'Fe', 'Co', 'Ni', 'Cu', 'Zn',\n",
    "                'Ga', 'Rb', 'Sr', 'Y', 'Zr', 'Mo', 'Rh', 'Pd', 'Ag', 'Cd', 'In', 'Sn', 'Sb', 'Cs', 'Ba', 'Hf', 'Re',\n",
    "                'Pt', 'Au', 'Hg', 'Tl', 'Pb', 'Bi']"
   ]
  },
  {
   "cell_type": "code",
   "execution_count": 31,
   "id": "d1776e38",
   "metadata": {},
   "outputs": [],
   "source": [
    "metals = list(set([\"Y\", \"Sc\"] + Ln_metals + An_metals) - {\"Ac\", \"Pa\"})\n",
    "metals = np.array(metals)[np.array([Chem.Atom(metal).GetAtomicNum() for metal in metals]).argsort()]"
   ]
  },
  {
   "cell_type": "code",
   "execution_count": 38,
   "id": "6de07dcc",
   "metadata": {},
   "outputs": [],
   "source": [
    "# final_5fold_regression_2023_06_10_07_58_17\n",
    "train_folder = ROOT_DIR / \"Output/WithCondAdd/5fold/Bk_5fold_regression_2023_06_01_05_15_06\"\n",
    "\n",
    "super_model = ModelShell(GCNN_FCNN, train_folder)"
   ]
  },
  {
   "cell_type": "code",
   "execution_count": 39,
   "id": "88d92238",
   "metadata": {},
   "outputs": [],
   "source": [
    "def get_graph(smiles, metal, charge=3, temperature=25, ionic_str=0.1):\n",
    "    mol_featurizer = ConvMolFeaturizer()\n",
    "    graph = mol_featurizer.featurize(Chem.MolFromSmiles(smiles))\n",
    "    conditions = torch.tensor([[charge, temperature, ionic_str]])\n",
    "    graph.metal_x = torch.cat((torch.tensor([get_vector[metal]]), conditions), dim=-1)\n",
    "    return graph"
   ]
  },
  {
   "cell_type": "code",
   "execution_count": 40,
   "id": "8111b15b",
   "metadata": {},
   "outputs": [],
   "source": [
    "def predict(smiles, metal):\n",
    "    graph = get_graph(smiles, metal)\n",
    "    return super_model(graph)[\"logK\"].item()"
   ]
  },
  {
   "cell_type": "code",
   "execution_count": 41,
   "id": "0675d875",
   "metadata": {},
   "outputs": [],
   "source": [
    "ind = range(len(metals))\n",
    "pred = [predict(\"OC(CN(CC(O)=O)CCN(CC(O)=O)CC(O)=O)=O\", metal) for metal in metals]\n",
    "true = [get_logK(\"OC(CN(CC(O)=O)CCN(CC(O)=O)CC(O)=O)=O\", metal) for metal in metals]\n",
    "mean_pred = predict(\"OC(CN(CC(O)=O)CCN(CC(O)=O)CC(O)=O)=O\", \"mean\")"
   ]
  },
  {
   "cell_type": "code",
   "execution_count": 42,
   "id": "092d763d",
   "metadata": {},
   "outputs": [
    {
     "data": {
      "image/png": "[encoded data removed]",
      "text/plain": [
       "<Figure size 640x480 with 1 Axes>"
      ]
     },
     "metadata": {},
     "output_type": "display_data"
    }
   ],
   "source": [
    "plt.hlines(mean_pred, 0, len(metals), label=\"pred on mean_metal\")\n",
    "plt.plot(ind, pred, \".\", label=\"pred\")\n",
    "plt.plot(ind, true, \".\", label=\"true\")\n",
    "plt.xticks(ind, metals)\n",
    "plt.legend()\n",
    "plt.show()"
   ]
  },
  {
   "cell_type": "code",
   "execution_count": 70,
   "id": "0dfc924b",
   "metadata": {},
   "outputs": [
    {
     "data": {
      "text/plain": [
       "1.2595487833023071"
      ]
     },
     "execution_count": 70,
     "metadata": {},
     "output_type": "execute_result"
    }
   ],
   "source": [
    "predict(\"CC(=O)\", \"mean\")"
   ]
  },
  {
   "cell_type": "code",
   "execution_count": 71,
   "id": "24c0f39d",
   "metadata": {},
   "outputs": [
    {
     "data": {
      "text/plain": [
       "1.4627457857131958"
      ]
     },
     "execution_count": 71,
     "metadata": {},
     "output_type": "execute_result"
    }
   ],
   "source": [
    "predict(\"CC(=O)\", \"zero\")"
   ]
  },
  {
   "cell_type": "code",
   "execution_count": 8,
   "id": "15588098",
   "metadata": {},
   "outputs": [
    {
     "name": "stderr",
     "output_type": "stream",
     "text": [
      "[11:39:38] Warning: molecule is tagged as 3D, but all Z coords are zero\n",
      "[11:39:38] Warning: molecule is tagged as 3D, but all Z coords are zero\n",
      "[11:39:38] Warning: molecule is tagged as 3D, but all Z coords are zero\n",
      "[11:39:38] Warning: molecule is tagged as 3D, but all Z coords are zero\n",
      "[11:39:39] Warning: molecule is tagged as 3D, but all Z coords are zero\n",
      "[11:39:39] Warning: molecule is tagged as 3D, but all Z coords are zero\n",
      "[11:39:39] Warning: molecule is tagged as 3D, but all Z coords are zero\n",
      "[11:39:39] Warning: molecule is tagged as 3D, but all Z coords are zero\n",
      "[11:39:39] Warning: molecule is tagged as 3D, but all Z coords are zero\n"
     ]
    }
   ],
   "source": [
    "def get_props(mol):\n",
    "    target = [p for p in mol.GetPropNames() if p.startswith(f\"logK_\")][0]\n",
    "    element_symbol, charge_str, temperature_str, ionic_str_str = target.split(\"_\")[1:]\n",
    "    charge = float(charge_str.split(\"=\")[-1])\n",
    "    temperature = float(temperature_str.split(\"=\")[-1])\n",
    "    ionic_str = float(ionic_str_str.split(\"=\")[-1])\n",
    "    logK = float(mol.GetProp(target))\n",
    "    return {\"logK\": logK, \"z\": charge, \"T\": temperature, \"I\": ionic_str}\n",
    "\n",
    "datasets = {\n",
    "    metal: {\n",
    "        Chem.MolToSmiles(mol): get_props(mol)\n",
    "        for mol in Chem.SDMolSupplier(str(ROOT_DIR / f\"Data/OneM_cond_adds/{metal}.sdf\"))\n",
    "        if mol is not None\n",
    "    } for metal in metals\n",
    "}\n",
    "\n",
    "def get_logK(smiles, metal):\n",
    "    canonical_smiles = Chem.MolToSmiles(Chem.MolFromSmiles(smiles))\n",
    "    try:\n",
    "        return datasets[metal][canonical_smiles][\"logK\"]\n",
    "    except KeyError:\n",
    "        return None"
   ]
  },
  {
   "cell_type": "code",
   "execution_count": 69,
   "id": "dad4966c",
   "metadata": {},
   "outputs": [
    {
     "data": {
      "text/plain": [
       "{'logK': 3.3, 'z': 3.0, 'T': 25.0, 'I': 0.1}"
      ]
     },
     "execution_count": 69,
     "metadata": {},
     "output_type": "execute_result"
    }
   ],
   "source": [
    "metal = \"Pr\"\n",
    "smiles = \"NCC(=O)O\"\n",
    "\n",
    "datasets[metal][smiles]"
   ]
  },
  {
   "cell_type": "code",
   "execution_count": 48,
   "id": "0805e86b",
   "metadata": {},
   "outputs": [],
   "source": []
  },
  {
   "cell_type": "code",
   "execution_count": null,
   "id": "0bbe17b9",
   "metadata": {},
   "outputs": [],
   "source": []
  }
 ],
 "metadata": {
  "kernelspec": {
   "display_name": "Python 3 (ipykernel)",
   "language": "python",
   "name": "python3"
  },
  "language_info": {
   "codemirror_mode": {
    "name": "ipython",
    "version": 3
   },
   "file_extension": ".py",
   "mimetype": "text/x-python",
   "name": "python",
   "nbconvert_exporter": "python",
   "pygments_lexer": "ipython3",
   "version": "3.8.16"
  }
 },
 "nbformat": 4,
 "nbformat_minor": 5
}
