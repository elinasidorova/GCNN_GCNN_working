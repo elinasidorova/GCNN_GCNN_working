{
 "cells": [
  {
   "cell_type": "code",
   "execution_count": 1,
   "id": "95a146bf",
   "metadata": {},
   "outputs": [],
   "source": [
    "import numpy as np\n",
    "import sys\n",
    "import json\n",
    "\n",
    "from ipywidgets import Dropdown\n",
    "from widget_periodictable import PTableWidget\n",
    "from tqdm.auto import tqdm\n",
    "\n",
    "sys.path.append(\"../\")\n",
    "from config import ROOT_DIR\n",
    "from Source.applicability_domain.knn_ad import knnAD\n",
    "from Source.applicability_domain.mahalanobis import MahalanobisAD"
   ]
  },
  {
   "cell_type": "code",
   "execution_count": 2,
   "id": "3e16c4cb",
   "metadata": {},
   "outputs": [],
   "source": [
    "all_elements = ['H', 'He', 'Li', 'Be', 'B', 'C', 'N', 'O', 'F', 'Ne', 'Na', 'Mg', 'Al', 'Si', 'P', 'S', 'Cl', 'Ar', 'K', 'Ca', 'Sc', 'Ti', 'V', 'Cr', 'Mn', 'Fe', 'Co', 'Ni', 'Cu', 'Zn', 'Ga', 'Ge', 'As', 'Se', 'Br', 'Kr', 'Rb', 'Sr', 'Y', 'Zr', 'Nb', 'Mo', 'Tc', 'Ru', 'Rh', 'Pd', 'Ag', 'Cd', 'In', 'Sn', 'Sb', 'Te', 'I', 'Xe', 'Cs', 'Ba', 'Hf', 'Ta', 'W', 'Re', 'Os', 'Ir', 'Pt', 'Au', 'Hg', 'Tl', 'Pb', 'Bi', 'Po', 'At', 'Rn', 'Fr', 'Ra', 'Rf', 'Db', 'Sg', 'Bh', 'Hs', 'Mt', 'Ds', 'Rg', 'Cn', 'Nh', 'Fi', 'Mc', 'Lv', 'Ts', 'Og', 'La', 'Ce', 'Pr', 'Nd', 'Pm', 'Sm', 'Eu', 'Gd', 'Tb', 'Dy', 'Ho', 'Er', 'Tm', 'Yb', 'Lu', 'Ac', 'Th', 'Pa', 'U', 'Np', 'Pu', 'Am', 'Cm', 'Bk', 'Cf', 'Es', 'Fm', 'Md', 'No', 'Lr']\n",
    "skipatom_elements = ['Si', 'C', 'Pb', 'I', 'Br', 'Cl', 'Eu', 'O', 'Fe', 'Sb', 'In', 'S', 'N', 'U', 'Mn', 'Lu', 'Se', 'Tl', 'Hf', 'Ir', 'Ca', 'Ta', 'Cr', 'K', 'Pm', 'Mg', 'Zn', 'Cu', 'Sn', 'Ti', 'B', 'W', 'P', 'H', 'Pd', 'As', 'Co', 'Np', 'Tc', 'Hg', 'Pu', 'Al', 'Tm', 'Tb', 'Ho', 'Nb', 'Ge', 'Zr', 'Cd', 'V', 'Sr', 'Ni', 'Rh', 'Th', 'Na', 'Ru', 'La', 'Re', 'Y', 'Er', 'Ce', 'Pt', 'Ga', 'Li', 'Cs', 'F', 'Ba', 'Te', 'Mo', 'Gd', 'Pr', 'Bi', 'Sc', 'Ag', 'Rb', 'Dy', 'Yb', 'Nd', 'Au', 'Os', 'Pa', 'Sm', 'Be', 'Ac', 'Xe', 'Kr', 'Cm', 'Am', 'Ra', 'Bk', 'Cf']\n",
    "all_train_metals = ['Ac', 'Ag', 'Al', 'Am', 'Au', 'Ba', 'Be', 'Bi', 'Bk', 'Ca', 'Cd', 'Ce', 'Cf', 'Cm', 'Co', 'Cr', 'Cs', 'Cu', 'Dy', 'Er', 'Eu', 'Fe', 'Ga', 'Gd', 'Hf', 'Hg', 'Ho', 'In', 'K', 'La', 'Li', 'Lu', 'Mg', 'Mn', 'Mo', 'Na', 'Nd', 'Ni', 'Np', 'Pa', 'Pb', 'Pd', 'Pm', 'Pr', 'Pt', 'Pu', 'Rb', 'Re', 'Rh', 'Sb', 'Sc', 'Sm', 'Sn', 'Sr', 'Tb', 'Th', 'Ti', 'Tl', 'Tm', 'U', 'V', 'Y', 'Yb', 'Zn', 'Zr']\n",
    "all_test_metals = ['Sc', 'Y', 'La', 'Ce', 'Pr', 'Nd', 'Pm', 'Sm', 'Eu', 'Gd', 'Tb', 'Dy', 'Ho', 'Er', 'Tm', 'Yb', 'Lu', 'Ac', 'Th', 'Pa', 'U', 'Np', 'Pu', 'Am', 'Cm', 'Bk', 'Cf',]"
   ]
  },
  {
   "cell_type": "code",
   "execution_count": 3,
   "id": "b722b2f2",
   "metadata": {},
   "outputs": [],
   "source": [
    "with open(ROOT_DIR / \"Source/models/GCNN_FCNN/skipatom_vectors_dim200.json\", \"r\") as f:\n",
    "    get_vector = json.load(f)\n",
    "def get_features(metals):\n",
    "    return np.array([get_vector[metal] for metal in metals])"
   ]
  },
  {
   "cell_type": "code",
   "execution_count": 4,
   "id": "31030df3",
   "metadata": {},
   "outputs": [
    {
     "data": {
      "application/vnd.jupyter.widget-view+json": {
       "model_id": "",
       "version_major": 2,
       "version_minor": 0
      },
      "text/plain": [
       "metals:   0%|          | 0/27 [00:00<?, ?it/s]"
      ]
     },
     "metadata": {},
     "output_type": "display_data"
    }
   ],
   "source": [
    "# {metal: (knn_ad, distances, densities)}\n",
    "get_ad = {}\n",
    "for metal in tqdm(all_test_metals, desc=\"metals\"):\n",
    "    x_train = get_features([m for m in all_train_metals if m != metal])\n",
    "    x_test = get_features(skipatom_elements)\n",
    "    \n",
    "    knn_ad_estimator = knnAD(x_train)\n",
    "    mahalanobis_ad_estimator = MahalanobisAD(x_train)\n",
    "    \n",
    "    knn_ad = knn_ad_estimator.get_dataset_ad(x_test)\n",
    "    distances, densities = mahalanobis_ad_estimator.get_dataset_ad(x_test)\n",
    "    \n",
    "    get_ad[metal] = (knn_ad.astype(int).tolist(), distances.astype(int).tolist(), densities.astype(int).tolist())"
   ]
  },
  {
   "cell_type": "code",
   "execution_count": 5,
   "id": "9fc6b9b9",
   "metadata": {},
   "outputs": [
    {
     "data": {
      "application/vnd.jupyter.widget-view+json": {
       "model_id": "760a2f818e54454780a2bb1d20567baf",
       "version_major": 2,
       "version_minor": 0
      },
      "text/plain": [
       "Dropdown(description='Metal:', options=('Sc', 'Y', 'La', 'Ce', 'Pr', 'Nd', 'Pm', 'Sm', 'Eu', 'Gd', 'Tb', 'Dy',…"
      ]
     },
     "metadata": {},
     "output_type": "display_data"
    },
    {
     "data": {
      "application/vnd.jupyter.widget-view+json": {
       "model_id": "a408293bbdf34788824b4d47a3edf7c2",
       "version_major": 2,
       "version_minor": 0
      },
      "text/plain": [
       "PTableWidget(allElements=['H', 'He', 'Li', 'Be', 'B', 'C', 'N', 'O', 'F', 'Ne', 'Na', 'Mg', 'Al', 'Si', 'P', '…"
      ]
     },
     "metadata": {},
     "output_type": "display_data"
    }
   ],
   "source": [
    "widget = PTableWidget(states=2, selected_colors=(\"red\", \"green\"), width = '20px')\n",
    "metal_dropdown = Dropdown(options=all_test_metals, description='Metal:')\n",
    "\n",
    "def change_metal(value):\n",
    "    global widget\n",
    "    metal = value['new']\n",
    "    knn_ad, distances, densities = get_ad[metal]\n",
    "    el_in_ad = dict(zip(skipatom_elements, densities))\n",
    "    widget.selected_elements = el_in_ad\n",
    "    widget.disabled_elements = [e for e in all_elements if e not in skipatom_elements]\n",
    "    widget.display_names_replacements = {e: f\"<i><b><u>{e}</u></b></i>\" for e in all_train_metals if e != metal}\n",
    "change_metal({\"new\": metal_dropdown.value})\n",
    "\n",
    "metal_dropdown.observe(change_metal, names='value')\n",
    "\n",
    "display(metal_dropdown)\n",
    "display(widget)"
   ]
  },
  {
   "cell_type": "code",
   "execution_count": null,
   "id": "abffd3ab",
   "metadata": {},
   "outputs": [],
   "source": []
  }
 ],
 "metadata": {
  "kernelspec": {
   "display_name": "logK",
   "language": "python",
   "name": "logk"
  },
  "language_info": {
   "codemirror_mode": {
    "name": "ipython",
    "version": 3
   },
   "file_extension": ".py",
   "mimetype": "text/x-python",
   "name": "python",
   "nbconvert_exporter": "python",
   "pygments_lexer": "ipython3",
   "version": "3.8.16"
  }
 },
 "nbformat": 4,
 "nbformat_minor": 5
}
